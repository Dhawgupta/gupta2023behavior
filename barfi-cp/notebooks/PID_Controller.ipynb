{
 "cells": [
  {
   "cell_type": "markdown",
   "metadata": {},
   "source": [
    "# Notebook having a PD controller which achieves max return"
   ]
  },
  {
   "cell_type": "code",
   "execution_count": 2,
   "metadata": {},
   "outputs": [],
   "source": [
    "import gym\n",
    "import torch\n",
    "import numpy as np"
   ]
  },
  {
   "cell_type": "code",
   "execution_count": 3,
   "metadata": {},
   "outputs": [],
   "source": [
    "P = 0.1\n",
    "D = 0.5\n",
    "I = 0.0  # don't use integral\n",
    "\n",
    "desired_state = np.array([0, 0, 0, 0])\n",
    "desired_mask = np.array([0, 0, 1, 0])\n",
    "integral = 0 # we are not going to use intergral\n",
    "prev_error = 0.0\n",
    "derivative = 0.0\n",
    " "
   ]
  },
  {
   "cell_type": "code",
   "execution_count": 4,
   "metadata": {},
   "outputs": [],
   "source": [
    "def sigmoid(x):\n",
    "    return 1.0 / (1.0 + np.exp(-x))\n",
    "\n",
    "\n",
    "def PID_controller(state, integral, prev_error, derivative):\n",
    "    '''\n",
    "    Only uses the PD controller\n",
    "    '''\n",
    "    error = state - desired_state\n",
    "    integral += error\n",
    "    derivative = error - prev_error\n",
    "    prev_error = error\n",
    "    pid = np.dot(P * error  + D * derivative, desired_mask)\n",
    "\n",
    "    action = sigmoid(pid)\n",
    "    action = np.round(action).astype(np.int32)\n",
    "    return action, integral, prev_error, derivative"
   ]
  },
  {
   "cell_type": "code",
   "execution_count": 5,
   "metadata": {},
   "outputs": [],
   "source": [
    "# create a loop to run cartpole using the PID controller and print out the performance\n",
    "returns = [] \n",
    "\n",
    "env = gym.make('CartPole-v1')\n",
    "for i in range(100):\n",
    "    state = env.reset()[0]\n",
    "    return_ = 0\n",
    "    integral = 0 # we are not going to use intergral\n",
    "    prev_error = 0.0\n",
    "    derivative = 0.0\n",
    "    for _ in range(1000):\n",
    "        # env.render()\n",
    "        action, integral, prev_error, derivative = PID_controller(state, integral, prev_error, derivative)\n",
    "        state, reward, done, term,  _ = env.step(action)\n",
    "        return_ += reward\n",
    "        if done or term:\n",
    "            returns.append(return_)\n",
    "            break\n",
    "    \n",
    "env.close()\n",
    "\n"
   ]
  },
  {
   "cell_type": "code",
   "execution_count": 6,
   "metadata": {},
   "outputs": [
    {
     "name": "stdout",
     "output_type": "stream",
     "text": [
      "500.0\n"
     ]
    }
   ],
   "source": [
    "print(np.mean(returns))"
   ]
  },
  {
   "cell_type": "code",
   "execution_count": null,
   "metadata": {},
   "outputs": [],
   "source": []
  }
 ],
 "metadata": {
  "kernelspec": {
   "display_name": "barfi",
   "language": "python",
   "name": "python3"
  },
  "language_info": {
   "codemirror_mode": {
    "name": "ipython",
    "version": 3
   },
   "file_extension": ".py",
   "mimetype": "text/x-python",
   "name": "python",
   "nbconvert_exporter": "python",
   "pygments_lexer": "ipython3",
   "version": "3.8.13"
  }
 },
 "nbformat": 4,
 "nbformat_minor": 2
}
